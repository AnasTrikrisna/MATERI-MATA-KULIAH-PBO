{
 "cells": [
  {
   "cell_type": "markdown",
   "metadata": {},
   "source": [
    "# Polymorphism"
   ]
  },
  {
   "cell_type": "markdown",
   "metadata": {},
   "source": [
    "Polymorphism berasal dari kata Poly(Banyak), dan Morphism(Bentuk). Jadi Polimorphism bermakna 'Sesuatu yang memiliki bnyak isi yang berbeda'(Multi-Fungsi)."
   ]
  },
  {
   "cell_type": "markdown",
   "metadata": {},
   "source": [
    "## a. PolyMorphism pada Function"
   ]
  },
  {
   "cell_type": "markdown",
   "metadata": {},
   "source": [
    "Polymorphism hampir serupa dengan Overriding, Berikut Contoh Codenya :"
   ]
  },
  {
   "cell_type": "code",
   "execution_count": 5,
   "metadata": {},
   "outputs": [
    {
     "name": "stdout",
     "output_type": "stream",
     "text": [
      "Kadal Berjalan dengan kaki\n",
      "Ular Melatah\n"
     ]
    }
   ],
   "source": [
    "class kadal:\n",
    "    def jalan(self):\n",
    "        print(\"Kadal Berjalan dengan kaki\")\n",
    "class ular:\n",
    "    def jalan(self):\n",
    "        print(\"Ular Melatah\")\n",
    "lizard=kadal()\n",
    "lizard.jalan() #Ini polimortphism\n",
    "\n",
    "viper=ular()\n",
    "viper.jalan() #Isinya Berbeda"
   ]
  },
  {
   "cell_type": "markdown",
   "metadata": {},
   "source": [
    "Cara lain penulisan Syntax Polymorphism :"
   ]
  },
  {
   "cell_type": "code",
   "execution_count": 2,
   "metadata": {},
   "outputs": [
    {
     "name": "stdout",
     "output_type": "stream",
     "text": [
      "Kambing Berjalan dengan 4 kaki\n",
      "Ayam berjalan dengan 2 kaki\n"
     ]
    }
   ],
   "source": [
    "class kambing:\n",
    "    def jalan(self):\n",
    "        print(\"Kambing Berjalan dengan 4 kaki\")\n",
    "class ayam:\n",
    "    def jalan(self):\n",
    "        print(\"Ayam berjalan dengan 2 kaki\")\n",
    "def polymorph(argumen):\n",
    "    argumen.jalan()\n",
    "        \n",
    "hewan1=kambing()\n",
    "hewan2=ayam()\n",
    "\n",
    "polymorph(hewan1)  #ini Polymorph\n",
    "polymorph(hewan2)"
   ]
  },
  {
   "cell_type": "markdown",
   "metadata": {},
   "source": [
    "## b. Polymorphism pada class"
   ]
  },
  {
   "cell_type": "markdown",
   "metadata": {},
   "source": [
    "Contoh Penulisan Syntax pada Polymorphism tingkat class :"
   ]
  },
  {
   "cell_type": "code",
   "execution_count": 3,
   "metadata": {},
   "outputs": [
    {
     "name": "stdout",
     "output_type": "stream",
     "text": [
      "Kambing Berjalan dengan 4 kaki\n",
      "Ayam berjalan dengan 2 kaki\n"
     ]
    }
   ],
   "source": [
    "for i in (hewan1,hewan2):\n",
    "    i.jalan()"
   ]
  },
  {
   "cell_type": "markdown",
   "metadata": {},
   "source": [
    "Contoh Lain:"
   ]
  },
  {
   "cell_type": "code",
   "execution_count": 11,
   "metadata": {},
   "outputs": [
    {
     "name": "stdout",
     "output_type": "stream",
     "text": [
      "Scan Piagam:Show pdf content\n",
      "Python - Inheritance:Show word content\n",
      "CodeBlockk - Part 4:Show pdf content\n"
     ]
    }
   ],
   "source": [
    "class docu:\n",
    "    def __init__(self,tipe):\n",
    "        self.tipe=tipe\n",
    "class pdf(docu):\n",
    "    def show(self):\n",
    "        return \"Show pdf content\"\n",
    "class word(docu):\n",
    "    def show(self):\n",
    "        return \"Show word content\"\n",
    "\n",
    "document=(pdf(\"Scan Piagam\"),word(\"Python - Inheritance\"),pdf(\"CodeBlockk - Part 4\"))\n",
    "for i in document:\n",
    "    print(i.tipe,\" : \",i.show())"
   ]
  }
 ],
 "metadata": {
  "kernelspec": {
   "display_name": "Python 3",
   "language": "python",
   "name": "python3"
  },
  "language_info": {
   "codemirror_mode": {
    "name": "ipython",
    "version": 3
   },
   "file_extension": ".py",
   "mimetype": "text/x-python",
   "name": "python",
   "nbconvert_exporter": "python",
   "pygments_lexer": "ipython3",
   "version": "3.6.5"
  }
 },
 "nbformat": 4,
 "nbformat_minor": 2
}
