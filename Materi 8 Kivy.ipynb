{
 "cells": [
  {
   "cell_type": "markdown",
   "metadata": {},
   "source": [
    "# Kivy"
   ]
  },
  {
   "cell_type": "markdown",
   "metadata": {},
   "source": [
    "Kivy ini sendiri merupakan framework yang dibangun menggunakan library dari bahasa pemrograman Python yang bersifat Open Source."
   ]
  },
  {
   "cell_type": "markdown",
   "metadata": {},
   "source": [
    "##### Instalasi Kivy"
   ]
  },
  {
   "cell_type": "markdown",
   "metadata": {},
   "source": [
    "masuk ke CMD (Command Prompt) dengan cara menekan tombol Windows lalu ketik CMD atau dengan cara klik start, assesoris,  pilih commad promt.\n",
    "PIP adalah sebuah aplikasi sistem manajemen package yang digunakan untuk             menginstal dan mengelola package yang ditulis dengan Python. kita bisa menemukan package di Python Package Index (PyPI). lalu bagaimana cara menginstall PIP Kivy? buka terminal, lalu ketik perintah :\n",
    "        Python –m pip install kivy\n"
   ]
  },
  {
   "cell_type": "markdown",
   "metadata": {},
   "source": [
    "##### Untuk Menggunakan Library Ini lakukan Perintah :"
   ]
  },
  {
   "cell_type": "code",
   "execution_count": null,
   "metadata": {},
   "outputs": [],
   "source": [
    "import kivy\n",
    "from kivy.app import App"
   ]
  },
  {
   "cell_type": "markdown",
   "metadata": {},
   "source": [
    "##### Contoh Program"
   ]
  },
  {
   "cell_type": "code",
   "execution_count": null,
   "metadata": {},
   "outputs": [],
   "source": [
    "from kivy.app import App\n",
    "from kivy.uix.widget import Widget\n",
    "from kivy.core.window import Window\n",
    "from kivy.uix.label import Label\n",
    "from kivy.clock import Clock\n",
    "\n",
    "import time\n",
    "\n",
    "Window.size = (1000, 700)\n",
    "\n",
    "class LoginScreen(Widget):\n",
    "    def login(self, *args):\n",
    "        fnama = self.ids.fnama_input\n",
    "        fnama_text = fnama.text\n",
    "        lnama = self.ids.lnama_input\n",
    "        lnama_text = lnama.text\n",
    "        no = self.ids.no_input\n",
    "        no_text = no.text\n",
    "        email = self.ids.email_input\n",
    "        email_text = email.text\n",
    "        password = self.ids.password_input\n",
    "        password_text = password.text\n",
    "        passwordk = self.ids.passwordk_input\n",
    "        passwordk_text = passwordk.text\n",
    "        if fnama_text == \"Alfin\" and lnama_text == \"Niam\" and no_text ==\"0877123123\" and email_text == \"alfin.anas@gmail.com\" and password_text ==\"12345\" and passwordk_text ==\"12345\":\n",
    "            label = self.ids.success\n",
    "            label.text = \"Berhasil Registrasi\"\n",
    "    \n",
    "class LatihanApp(App):\n",
    "    def build(self):\n",
    "              return LoginScreen()\n",
    "\n",
    "\n",
    "if __name__ == '__main__':\n",
    "    LatihanApp().run()\n"
   ]
  }
 ],
 "metadata": {
  "kernelspec": {
   "display_name": "Python 2",
   "language": "python",
   "name": "python2"
  },
  "language_info": {
   "codemirror_mode": {
    "name": "ipython",
    "version": 2
   },
   "file_extension": ".py",
   "mimetype": "text/x-python",
   "name": "python",
   "nbconvert_exporter": "python",
   "pygments_lexer": "ipython2",
   "version": "2.7.15"
  }
 },
 "nbformat": 4,
 "nbformat_minor": 2
}
