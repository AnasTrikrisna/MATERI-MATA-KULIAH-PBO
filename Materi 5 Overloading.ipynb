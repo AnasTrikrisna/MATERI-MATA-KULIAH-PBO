{
 "cells": [
  {
   "cell_type": "markdown",
   "metadata": {},
   "source": [
    "# Overloading Method & Operator Overloading"
   ]
  },
  {
   "cell_type": "markdown",
   "metadata": {},
   "source": [
    "## Overloading Method"
   ]
  },
  {
   "cell_type": "markdown",
   "metadata": {},
   "source": [
    "Overloading method ialah method yangmengeksekusi berdasarkan jumlah parameter yang diinputkan, Beda jumlah parameter maka berbeda pula method yg ditampilkan"
   ]
  },
  {
   "cell_type": "code",
   "execution_count": 3,
   "metadata": {},
   "outputs": [
    {
     "name": "stdout",
     "output_type": "stream",
     "text": [
      "B = Kosong\n",
      " menampilkan Usia =  100\n"
     ]
    }
   ],
   "source": [
    "class obj:\n",
    "    def usia(self,b=None):\n",
    "        if b is not None:\n",
    "            print(' menampilkan Usia = ',b)\n",
    "        else:\n",
    "            print('B = Kosong')\n",
    "anas=obj()\n",
    "anas.usia()\n",
    "anas.usia('100')"
   ]
  },
  {
   "cell_type": "markdown",
   "metadata": {},
   "source": [
    "## Operator Overloading"
   ]
  },
  {
   "cell_type": "code",
   "execution_count": 4,
   "metadata": {},
   "outputs": [
    {
     "name": "stdout",
     "output_type": "stream",
     "text": [
      "Point This Object is at: (3,6)\n"
     ]
    }
   ],
   "source": [
    "class point:\n",
    "    def __init__(self,x=0,y=0):\n",
    "        self.x=x\n",
    "        self.y=y\n",
    "    def __str__(self):\n",
    "        return 'Point This Object is at: ('+str(self.x)+','+str(self.y)+')'\n",
    "    def __add__(self,other):\n",
    "        x=self.x+other.x\n",
    "        y=self.y+other.y\n",
    "        return point(x,y)\n",
    "p1=point(1,2)\n",
    "p2=point(2,4)\n",
    "print(p1+p2)"
   ]
  },
  {
   "cell_type": "code",
   "execution_count": 15,
   "metadata": {},
   "outputs": [
    {
     "name": "stdout",
     "output_type": "stream",
     "text": [
      ">>>Rumus Luas Persegi\n",
      "Panjang = 6\n",
      "Lebar = 4\n",
      "Luas = 24\n"
     ]
    }
   ],
   "source": [
    "#Menghitung Luas \n",
    "class point:\n",
    "    def __init__(self,panjang=0,lebar=0):\n",
    "        self.panjang=panjang\n",
    "        self.lebar=lebar\n",
    "    def __str__(self):\n",
    "        return '>>>Rumus Luas Persegi\\n'+'Panjang = '+str(self.panjang)+'\\nLebar = '+str(self.lebar)+'\\nLuas = '+str(self.panjang*self.lebar)\n",
    "    def __sub__(self,other):\n",
    "        if self.panjang< other.panjang:\n",
    "             panjang=other.panjang-self.panjang\n",
    "        elif self.panjang > other.panjang:\n",
    "             panjang=self.panjang-other.panjang\n",
    "        if self.lebar < other.lebar:\n",
    "            lebar=other.lebar-self.lebar\n",
    "        elif self.lebar>other.lebar:\n",
    "            lebar=self.lebar-other.lebar\n",
    "        return point(panjang,lebar)\n",
    "p1=point(8,2)\n",
    "p2=point(2,6)\n",
    "print(p1-p2)"
   ]
  },
  {
   "cell_type": "code",
   "execution_count": null,
   "metadata": {},
   "outputs": [],
   "source": []
  }
 ],
 "metadata": {
  "kernelspec": {
   "display_name": "Python 3",
   "language": "python",
   "name": "python3"
  },
  "language_info": {
   "codemirror_mode": {
    "name": "ipython",
    "version": 3
   },
   "file_extension": ".py",
   "mimetype": "text/x-python",
   "name": "python",
   "nbconvert_exporter": "python",
   "pygments_lexer": "ipython3",
   "version": "3.6.5"
  }
 },
 "nbformat": 4,
 "nbformat_minor": 2
}
